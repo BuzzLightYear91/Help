{
 "cells": [
  {
   "cell_type": "markdown",
   "metadata": {},
   "source": [
    "**Problem 4:** Initial Value Problem\n",
    "=================\n",
    "\n",
    "Hamilton’s equations of motion for a particular one-dimensional system are given by\n",
    "\n",
    "$$\\dot{p}=−mgR\\sin(\\theta)$$\n",
    "\n",
    "$$\\dot{\\theta}=\\frac{p}{mR^2}$$\n",
    "\n",
    "with initial conditions $p_0=0$ and $\\theta_0=\\frac{3\\pi}{4}$. This system will demonstrate harmonic motion.\n",
    "\n",
    "1. Using an RK4 numerical integrator, numerically solve for $p$ and $\\theta$ for at\n",
    "least the first three oscillations. (You will have to adjust the length of\n",
    "time and the step size to get an acceptable result.) You may assume that\n",
    "$m = 1.00$ kg, $R = 0.25$ m, and $g = 9.80$ m/s$^2$. Newman Example 8.5 will\n",
    "be helpful.\n",
    "\n",
    "2. Plot the angular position, $\\theta$, as a function of time.\n",
    "\n",
    "3. Plot the $(p,\\theta)$ pairs to produce a graph of the orbit in phase space. Describe\n",
    "the result.\n",
    "\n",
    "4. Repeat the calculation, replacing the RK4 integration with the ``odeint``\n",
    "function from the ``scipy.integrate`` module.\n"
   ]
  },
  {
   "cell_type": "code",
   "execution_count": null,
   "metadata": {
    "collapsed": true
   },
   "outputs": [],
   "source": []
  }
 ],
 "metadata": {
  "kernelspec": {
   "display_name": "Python 3",
   "language": "python",
   "name": "python3"
  },
  "language_info": {
   "codemirror_mode": {
    "name": "ipython",
    "version": 3
   },
   "file_extension": ".py",
   "mimetype": "text/x-python",
   "name": "python",
   "nbconvert_exporter": "python",
   "pygments_lexer": "ipython3",
   "version": "3.6.1"
  }
 },
 "nbformat": 4,
 "nbformat_minor": 2
}
